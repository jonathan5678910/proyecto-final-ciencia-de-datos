{
 "cells": [
  {
   "cell_type": "markdown",
   "id": "a9ee0ef5-5150-4553-ae24-ee5f54424ff0",
   "metadata": {},
   "source": [
    "# Proyecto Final de Ciencia de Datos\n"
   ]
  },
  {
   "cell_type": "markdown",
   "id": "7573ce80-4e4b-4729-954d-41c1ac6f0ec9",
   "metadata": {},
   "source": [
    "Este cuaderno resume los conceptos básicos de la Ciencia de Datos a través de ejemplos prácticos en Markdown y Python."
   ]
  },
  {
   "cell_type": "markdown",
   "id": "4e6802e4-d750-4a9d-99fa-f43e60257c10",
   "metadata": {},
   "source": [
    "## Lenguajes comunes en Ciencia de Datos:\n",
    "- Python  \n",
    "- R  \n",
    "- SQL  \n",
    "- Java  \n",
    "- Scala  "
   ]
  },
  {
   "cell_type": "markdown",
   "id": "e999489e-2866-4f01-8d78-7f1050a0b8ef",
   "metadata": {},
   "source": [
    "## Bibliotecas populares:\n",
    "- Pandas  \n",
    "- NumPy  \n",
    "- Matplotlib  \n",
    "- Seaborn  \n",
    "- Scikit-learn  \n",
    "- TensorFlow  "
   ]
  },
  {
   "cell_type": "markdown",
   "id": "fe635f0b-6c7e-4e8a-9fb4-6d9d65cb16dc",
   "metadata": {},
   "source": [
    "## Herramientas de Ciencia de Datos\n",
    "\n",
    "| Herramienta     | Tipo                  |\n",
    "|-----------------|-----------------------|\n",
    "| Jupyter         | Cuaderno interactivo  |\n",
    "| GitHub          | Control de versiones  |\n",
    "| RStudio         | Entorno para R        |\n",
    "| Apache Spark    | Procesamiento Big Data|\n",
    "| Tableau         | Visualización         |"
   ]
  },
  {
   "cell_type": "markdown",
   "id": "44fd6d4f-cd21-4ac5-b15f-0372b88634d6",
   "metadata": {},
   "source": [
    "Ejemplos de operaciones aritméticas:\n",
    "- 5 + 3  \n",
    "- 12 / 4  \n",
    "- 2 * 7  \n",
    "- 9 - 1  "
   ]
  },
  {
   "cell_type": "code",
   "execution_count": 1,
   "id": "d0450e50-706c-47e6-9bd1-0192f620f34a",
   "metadata": {},
   "outputs": [
    {
     "name": "stdout",
     "output_type": "stream",
     "text": [
      "Multiplicación: 15\n",
      "Suma: 8\n"
     ]
    }
   ],
   "source": [
    "a = 5\n",
    "b = 3\n",
    "print(\"Multiplicación:\", a * b)\n",
    "print(\"Suma:\", a + b)"
   ]
  },
  {
   "cell_type": "code",
   "execution_count": 2,
   "id": "a843e01a-f641-4a6e-b077-bb1194903b96",
   "metadata": {},
   "outputs": [
    {
     "name": "stdout",
     "output_type": "stream",
     "text": [
      "Equivalente en horas: 2.25\n"
     ]
    }
   ],
   "source": [
    "minutos = 135\n",
    "horas = minutos / 60\n",
    "print(\"Equivalente en horas:\", horas)"
   ]
  },
  {
   "cell_type": "code",
   "execution_count": 3,
   "id": "6343fe05-afdd-47ad-8f2c-c2792bb18264",
   "metadata": {},
   "outputs": [
    {
     "name": "stdout",
     "output_type": "stream",
     "text": [
      "- Conocer Python\n",
      "- Aplicar ciencia de datos\n",
      "- Desarrollar proyectos con datos\n"
     ]
    }
   ],
   "source": [
    "objetivos = [\"Conocer Python\", \"Aplicar ciencia de datos\", \"Desarrollar proyectos con datos\"]\n",
    "for objetivo in objetivos:\n",
    "    print(\"- \" + objetivo)"
   ]
  },
  {
   "cell_type": "markdown",
   "id": "11fd3706-23df-47c8-b36d-6b465cf56424",
   "metadata": {},
   "source": [
    "**Autor:** [jonathan arias villa]"
   ]
  },
  {
   "cell_type": "markdown",
   "id": "f511f982-b998-4e51-8ffe-eea6cda6af01",
   "metadata": {},
   "source": [
    "**Fecha:** 21 de junio de 2025\n"
   ]
  },
  {
   "cell_type": "code",
   "execution_count": null,
   "id": "e1b7a5d7-3486-40f0-a36b-4ce6d54e3bcf",
   "metadata": {},
   "outputs": [],
   "source": []
  }
 ],
 "metadata": {
  "kernelspec": {
   "display_name": "Python 3 (ipykernel)",
   "language": "python",
   "name": "python3"
  },
  "language_info": {
   "codemirror_mode": {
    "name": "ipython",
    "version": 3
   },
   "file_extension": ".py",
   "mimetype": "text/x-python",
   "name": "python",
   "nbconvert_exporter": "python",
   "pygments_lexer": "ipython3",
   "version": "3.12.7"
  }
 },
 "nbformat": 4,
 "nbformat_minor": 5
}
